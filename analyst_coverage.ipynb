{
  "nbformat": 4,
  "nbformat_minor": 0,
  "metadata": {
    "colab": {
      "name": "analyst coverage.ipynb",
      "provenance": [],
      "collapsed_sections": []
    },
    "kernelspec": {
      "name": "python3",
      "display_name": "Python 3"
    },
    "language_info": {
      "name": "python"
    }
  },
  "cells": [
    {
      "cell_type": "markdown",
      "metadata": {
        "id": "_j195swcFp6Y"
      },
      "source": [
        "# Import Libraries"
      ]
    },
    {
      "cell_type": "code",
      "metadata": {
        "id": "P49UbM9SFpP1"
      },
      "source": [
        "import io\n",
        "import pandas as pd\n",
        "import numpy as np\n",
        "import datetime as dt\n",
        "import statsmodels.api as sm\n",
        "\n",
        "from google.colab import files\n",
        "from google.colab import drive\n",
        "drive.mount('drive')"
      ],
      "execution_count": null,
      "outputs": []
    },
    {
      "cell_type": "code",
      "metadata": {
        "id": "h4qSQs9sFv_h"
      },
      "source": [
        "uploaded = files.upload()"
      ],
      "execution_count": null,
      "outputs": []
    },
    {
      "cell_type": "markdown",
      "metadata": {
        "id": "kDCSi2bfS3PP"
      },
      "source": [
        "# Import and Aggregate Data"
      ]
    },
    {
      "cell_type": "markdown",
      "metadata": {
        "id": "bfxv4ciKS6XR"
      },
      "source": [
        "## Analyst Coverage"
      ]
    },
    {
      "cell_type": "code",
      "metadata": {
        "id": "hrRf5e07GEX1"
      },
      "source": [
        "cv = pd.read_csv(io.BytesIO(uploaded['af.csv']))\n",
        "cv['Date'] = pd.to_datetime(cv['ANNDATS'])\n",
        "cv['ANALYS']=pd.Categorical(cv['ANALYST'])\n",
        "cv['Date']= pd.to_datetime(cv['Date'])\n",
        "cv['year'] = cv['Date'].dt.to_period('Y')\n",
        "ac = cv.groupby(by=['OFTIC',\"year\"],\n",
        "                as_index=False).count()\n",
        "ac = ac[['OFTIC','year','ANALYST']]\n",
        "ac"
      ],
      "execution_count": null,
      "outputs": []
    },
    {
      "cell_type": "markdown",
      "metadata": {
        "id": "IlkXmHfqS9NF"
      },
      "source": [
        "## Governance"
      ]
    },
    {
      "cell_type": "code",
      "metadata": {
        "id": "gBaS9nA7HXh-"
      },
      "source": [
        "gov = pd.read_csv(io.BytesIO(uploaded['governance.csv']))\n",
        "gov = gov[['Date','Company','Ticker','governance_score']]\n",
        "gov['Date'] = pd.to_datetime(gov['Date'])\n",
        "gov['year'] = pd.to_datetime(gov['Date']).dt.to_period('Y')\n",
        "gov"
      ],
      "execution_count": null,
      "outputs": []
    },
    {
      "cell_type": "markdown",
      "metadata": {
        "id": "XYPZDcpqTuH_"
      },
      "source": [
        "## Control Variables"
      ]
    },
    {
      "cell_type": "code",
      "metadata": {
        "id": "MoUJpBAnTJVp"
      },
      "source": [
        "controls = pd.read_csv(io.BytesIO(uploaded['ratios.csv']))\n",
        "controls['date'] = pd.to_datetime(controls['date'])\n",
        "controls['year'] = pd.to_datetime(controls['date']).dt.to_period('Y')\n",
        "controls = controls.fillna(1)\n",
        "\n",
        "controls"
      ],
      "execution_count": null,
      "outputs": []
    },
    {
      "cell_type": "markdown",
      "metadata": {
        "id": "4e3xXp2YUF8k"
      },
      "source": [
        "## Real Activities Earnings Management"
      ]
    },
    {
      "cell_type": "code",
      "metadata": {
        "id": "aWwbTY4oT-ys"
      },
      "source": [
        "raem = pd.read_csv(io.BytesIO(uploaded['raem.csv']))\n",
        "raem['datadate'] = pd.to_datetime(raem['datadate'] )\n",
        "raem['year'] = raem['datadate'].dt.to_period('Y')\n",
        "raem = raem.fillna(0)\n",
        "raem"
      ],
      "execution_count": null,
      "outputs": []
    },
    {
      "cell_type": "markdown",
      "metadata": {
        "id": "aLmJ_wj-WjDM"
      },
      "source": [
        "# Generating Accrual Management"
      ]
    },
    {
      "cell_type": "code",
      "metadata": {
        "id": "aZ7zggICURad"
      },
      "source": [
        "accrued = pd.read_csv(io.BytesIO(uploaded['accrued_data.csv']))\n",
        "accrued = accrued.fillna(1)\n",
        "accrued"
      ],
      "execution_count": null,
      "outputs": []
    },
    {
      "cell_type": "code",
      "metadata": {
        "id": "73CxzyapXefB"
      },
      "source": [
        "accrued['tic']  = pd.Categorical(accrued['tic'],ordered=True)\n",
        "companies = list(accrued['tic'].dtypes.categories)\n",
        "companies"
      ],
      "execution_count": null,
      "outputs": []
    },
    {
      "cell_type": "code",
      "metadata": {
        "id": "vYGtE5NgXXI6"
      },
      "source": [
        "ams = []\n",
        "for comp in companies:\n",
        "  accruals=[]\n",
        "  X1=[]\n",
        "  X2=[]\n",
        "  X3=[]\n",
        "  X4=[]\n",
        "  for index, row in accrued.iterrows():\n",
        "    if row['tic'] == comp and row['fyear']!=2011:\n",
        "      index_1 = index-1\n",
        "      pv_asset = accrued.at[index_1,'at']\n",
        "      pv_rev = accrued.at[index_1,'revt']\n",
        "      pv_rec = accrued.at[index_1,'rect']\n",
        "      rev_change = row['revt']-pv_rev\n",
        "      rec_change = row['rect']-pv_rec\n",
        "\n",
        "      accrual = (row['ni']-row['oancf'])/pv_asset\n",
        "\n",
        "      x1 = 1/pv_asset\n",
        "      x2 = (rev_change-rec_change)/(row['at']-1)\n",
        "      x3 = row['ppegt']/pv_asset\n",
        "      x4 = row['intan']/pv_asset\n",
        "      \n",
        "    elif row['tic'] == comp and row['fyear']==2011: \n",
        "      x1=0\n",
        "      x2=0\n",
        "      x3=0\n",
        "      x4=0\n",
        "      accrual=0\n",
        "\n",
        "    else:\n",
        "      continue\n",
        "    X1.append(x1)\n",
        "    X2.append(x2)\n",
        "    X3.append(x3)\n",
        "    X4.append(x4)\n",
        "    accruals.append(accrual)\n",
        "\n",
        "  X = np.array([X1,X2,X3,X4]).T\n",
        "  X = sm.add_constant(X)\n",
        "  model = sm.OLS(accruals,X).fit()\n",
        "\n",
        "  am = model.resid\n",
        "\n",
        "  for a in am:\n",
        "    ams.append(a)"
      ],
      "execution_count": null,
      "outputs": []
    },
    {
      "cell_type": "code",
      "metadata": {
        "id": "sV-qsZt81D3R"
      },
      "source": [
        "ams_all = pd.DataFrame({\"tic\":accrued['tic'],\n",
        "                        \"date\":accrued['datadate'],\n",
        "                        'am':ams})\n",
        "ams_all['year']=pd.to_datetime(ams_all['date']).dt.to_period('Y')\n",
        "ams_all"
      ],
      "execution_count": null,
      "outputs": []
    },
    {
      "cell_type": "markdown",
      "metadata": {
        "id": "FqLoBWu-mPzm"
      },
      "source": [
        "# Generating Abnormal OCF, COGS, INVT and PROD"
      ]
    },
    {
      "cell_type": "code",
      "metadata": {
        "id": "XMbk7cAlZy48"
      },
      "source": [
        "# OANCF -- Operating Activities Net Cash Flow (OANCF)\n",
        "raem['disexp'] = raem['xad']+raem['xrd']+raem['xsga']\n",
        "raem['year']=pd.to_datetime(raem['datadate']).dt.to_period('Y')\n",
        "raem['year'] = raem['year'].astype(str)\n",
        "raem"
      ],
      "execution_count": null,
      "outputs": []
    },
    {
      "cell_type": "code",
      "metadata": {
        "id": "mNCgty41WVYq"
      },
      "source": [
        "len(aocfs)"
      ],
      "execution_count": null,
      "outputs": []
    },
    {
      "cell_type": "markdown",
      "metadata": {
        "id": "iLbQwD3Ce16a"
      },
      "source": [
        "### Abnormal OCF"
      ]
    },
    {
      "cell_type": "code",
      "metadata": {
        "id": "mzlJ2IePm80o"
      },
      "source": [
        "aocfs=[]\n",
        "\n",
        "for comp in companies:\n",
        "  ocf = []\n",
        "  X1 = []\n",
        "  X2 = []\n",
        "  X3 = []\n",
        "\n",
        "  for index, row in raem.iterrows():\n",
        "    if row['tic'] == comp and row['year'] != '2011':\n",
        "      index_1 = index-1\n",
        "      sales_t_1 = raem.at[index_1,'revt']\n",
        "      asset_t_1 = raem.at[index_1,'at']\n",
        "      sales_change = row['revt']-sales_t_1\n",
        "      #independent variables\n",
        "      x1 = 1/asset_t_1\n",
        "      x2 = row['revt']/asset_t_1\n",
        "      x3 = sales_t_1/asset_t_1\n",
        "      #dependent variable\n",
        "      y = row['oancf']/asset_t_1\n",
        "    elif row['tic'] == comp and row['year']=='2011': \n",
        "      y=0\n",
        "      x1=0\n",
        "      x2=0\n",
        "      x3=0\n",
        "    else:\n",
        "      continue\n",
        "\n",
        "    X1.append(x1)\n",
        "    X2.append(x2)\n",
        "    X3.append(x3)\n",
        "    ocf.append(y)\n",
        "\n",
        "  X = np.array([X1,X2,X3]).T\n",
        "  X = sm.add_constant(X)\n",
        "  model_ocf = sm.OLS(ocf,X).fit()\n",
        "  aocf = model_ocf.resid\n",
        "\n",
        "  for a in aocf:\n",
        "    aocfs.append(a)"
      ],
      "execution_count": null,
      "outputs": []
    },
    {
      "cell_type": "markdown",
      "metadata": {
        "id": "HIoSHt_v_b8Y"
      },
      "source": [
        "### Abnormal COGS"
      ]
    },
    {
      "cell_type": "code",
      "metadata": {
        "id": "Ag7vP85DrYuE"
      },
      "source": [
        "acogss=[]\n",
        "beta0s_acogs = []\n",
        "beta1s_acogs = []\n",
        "beta2s_acogs = []\n",
        "\n",
        "for comp in companies:\n",
        "  cogs = []\n",
        "  X1 = []\n",
        "  X2 = []\n",
        "\n",
        "  for index, row in raem.iterrows():\n",
        "    if row['tic'] == comp and row['year'] != '2011':\n",
        "      index_1 = index-1\n",
        "      asset_t_1 = raem.at[index_1,'at']\n",
        "      #independent variables\n",
        "      x1 = 1/asset_t_1\n",
        "      x2 = row['revt']/asset_t_1\n",
        "      #dependent variable\n",
        "      y = row['cogs']/asset_t_1\n",
        "    elif row['tic'] == comp and row['year']=='2011': \n",
        "      y=0\n",
        "      x1=0\n",
        "      x2=0\n",
        "      x3=0\n",
        "    else:\n",
        "      continue\n",
        "\n",
        "    X1.append(x1)\n",
        "    X2.append(x2)\n",
        "\n",
        "    cogs.append(y)\n",
        "\n",
        "  X = np.array([X1,X2]).T\n",
        "  X = sm.add_constant(X)\n",
        "  model_cogs = sm.OLS(cogs,X).fit()\n",
        "  acogs = model_cogs.resid\n",
        "  beta0s_acogs.append(model_cogs.params[0].astype(float))\n",
        "  beta1s_acogs.append(model_cogs.params[1].astype(float))\n",
        "  beta2s_acogs.append(model_cogs.params[2].astype(float))\n",
        "\n",
        "  for a in acogs:\n",
        "    acogss.append(a)"
      ],
      "execution_count": null,
      "outputs": []
    },
    {
      "cell_type": "markdown",
      "metadata": {
        "id": "lERLVwd9AXdc"
      },
      "source": [
        "### Abnormal Discretionary Expenses"
      ]
    },
    {
      "cell_type": "code",
      "metadata": {
        "id": "-HB2uPUMAPC6"
      },
      "source": [
        "adiss=[]\n",
        "beta0s_dis = []\n",
        "beta1s_dis = []\n",
        "beta2s_dis = []\n",
        "\n",
        "for comp in companies:\n",
        "  dis = []\n",
        "  X1 = []\n",
        "  X2 = []\n",
        "\n",
        "  for index, row in raem.iterrows():\n",
        "    if row['tic'] == comp and row['year'] != '2011':\n",
        "      index_1 = index-1\n",
        "      asset_t_1 = raem.at[index_1,'at']\n",
        "      #independent variables\n",
        "      x1 = 1/asset_t_1\n",
        "      x2 = row['revt']/asset_t_1\n",
        "      #dependent variable\n",
        "      y = row['disexp']/asset_t_1\n",
        "    elif row['tic'] == comp and row['year']=='2011': \n",
        "      y=0\n",
        "      x1=0\n",
        "      x2=0\n",
        "      x3=0\n",
        "    else:\n",
        "      continue\n",
        "\n",
        "    X1.append(x1)\n",
        "    X2.append(x2)\n",
        "\n",
        "    dis.append(y)\n",
        "\n",
        "  X = np.array([X1,X2]).T\n",
        "  X = sm.add_constant(X)\n",
        "  model_dis = sm.OLS(dis,X).fit()\n",
        "  adis = model_dis.resid\n",
        "  beta0s_dis.append(model_dis.params[0].astype(float))\n",
        "  beta1s_dis.append(model_dis.params[1].astype(float))\n",
        "  beta2s_dis.append(model_dis.params[2].astype(float))\n",
        "\n",
        "  for a in adis:\n",
        "    adiss.append(a)"
      ],
      "execution_count": null,
      "outputs": []
    },
    {
      "cell_type": "markdown",
      "metadata": {
        "id": "jLtNYEcMA8im"
      },
      "source": [
        "### Abnormal Inventory Changes"
      ]
    },
    {
      "cell_type": "code",
      "metadata": {
        "id": "48tIE22vA7fU"
      },
      "source": [
        "ainvts=[]\n",
        "beta0s_invt = []\n",
        "beta1s_invt = []\n",
        "beta2s_invt = []\n",
        "beta3s_invt = []\n",
        "\n",
        "for comp in companies:\n",
        "  invt = []\n",
        "  X1 = []\n",
        "  X2 = []\n",
        "  X3 = []\n",
        "  for index, row in raem.iterrows():\n",
        "    if row['tic'] == comp and row['year'] != '2011':\n",
        "      index_1 = index-1\n",
        "      asset_t_1 = raem.at[index_1,'at']\n",
        "      sales_t_1 = raem.at[index_1,'revt']\n",
        "      invt_t_1 = raem.at[index_1,'invt']\n",
        "      #independent variables\n",
        "      x1 = 1/asset_t_1\n",
        "      x2 = row['revt']/asset_t_1\n",
        "      x3 = (row['revt']-sales_t_1)/asset_t_1\n",
        "      #dependent variable\n",
        "      y = (row['invt']-invt_t_1)/asset_t_1\n",
        "\n",
        "    elif row['tic'] == comp and row['year']=='2011': \n",
        "      y=0\n",
        "      x1=0\n",
        "      x2=0\n",
        "      x3=0\n",
        "    else:\n",
        "      continue\n",
        "\n",
        "    X1.append(x1)\n",
        "    X2.append(x2)\n",
        "    X3.append(x3)\n",
        "    invt.append(y)\n",
        "\n",
        "  X = np.array([X1,X2,X3]).T\n",
        "  X = sm.add_constant(X)\n",
        "\n",
        "  model_invt = sm.OLS(invt,X).fit()\n",
        "  ainvt = model_invt.resid\n",
        "\n",
        "  beta0s_invt.append(model_invt.params[0].astype(float))\n",
        "  beta1s_invt.append(model_invt.params[1].astype(float))\n",
        "  beta2s_invt.append(model_invt.params[2].astype(float))\n",
        "  beta3s_invt.append(model_invt.params[3].astype(float))\n",
        "\n",
        "  for a in ainvt:\n",
        "    ainvts.append(a)"
      ],
      "execution_count": null,
      "outputs": []
    },
    {
      "cell_type": "markdown",
      "metadata": {
        "id": "ArHR4TctDJXz"
      },
      "source": [
        "### Abnormal Production costs"
      ]
    },
    {
      "cell_type": "code",
      "metadata": {
        "id": "MXU3d3oSDGa1"
      },
      "source": [
        "aprods=[]\n",
        "beta0s_prod = []\n",
        "beta1s_prod = []\n",
        "beta2s_prod = []\n",
        "beta3s_prod = []\n",
        "\n",
        "for comp in companies:\n",
        "  prod = []\n",
        "  X1 = []\n",
        "  X2 = []\n",
        "  X3 = []\n",
        "  for index, row in raem.iterrows():\n",
        "    if row['tic'] == comp and row['year'] != '2011':\n",
        "      index_1 = index-1\n",
        "      asset_t_1 = raem.at[index_1,'at']\n",
        "      sales_t_1 = raem.at[index_1,'revt']\n",
        "      invt_t_1 = raem.at[index_1,'invt']\n",
        "      invt_delta = row['invt']-invt_t_1\n",
        "      prodc = invt_delta + row['cogs']\n",
        "\n",
        "      #independent variables\n",
        "      x1 = 1/asset_t_1\n",
        "      x2 = row['revt']/asset_t_1\n",
        "      x3 = (row['revt']-sales_t_1)/asset_t_1\n",
        "\n",
        "      #dependent variable\n",
        "      y = prodc/asset_t_1\n",
        "\n",
        "    elif row['tic'] == comp and row['year']=='2011': \n",
        "      y=0\n",
        "      x1=0\n",
        "      x2=0\n",
        "      x3=0\n",
        "    else:\n",
        "      continue\n",
        "\n",
        "    X1.append(x1)\n",
        "    X2.append(x2)\n",
        "    X3.append(x3)\n",
        "    prod.append(y)\n",
        "\n",
        "  X = np.array([X1,X2,X3]).T\n",
        "  X = sm.add_constant(X)\n",
        "\n",
        "  model_prod = sm.OLS(prod,X).fit()\n",
        "  aprod = model_prod.resid\n",
        "\n",
        "  beta0s_prod.append(model_prod.params[0].astype(float))\n",
        "  beta1s_prod.append(model_prod.params[1].astype(float))\n",
        "  beta2s_prod.append(model_prod.params[2].astype(float))\n",
        "  beta3s_prod.append(model_prod.params[3].astype(float))\n",
        "\n",
        "  for a in aprod:\n",
        "    aprods.append(a)"
      ],
      "execution_count": null,
      "outputs": []
    },
    {
      "cell_type": "markdown",
      "metadata": {
        "id": "JAycypQNFO54"
      },
      "source": [
        "### Aggregate all abnormals"
      ]
    },
    {
      "cell_type": "code",
      "metadata": {
        "id": "AOlhlNNiDymq"
      },
      "source": [
        "abnormals = pd.DataFrame({'tic':raem['tic'],\n",
        "                          'date':raem['datadate'],\n",
        "                          'abnormal_ocf':aocfs,\n",
        "                          'abnormal_cogs':acogss,\n",
        "                          'abnormal_disexp':adiss,\n",
        "                          'abnormal_inv':ainvts,\n",
        "                          'abnormal_prod':aprods})\n",
        "abnormals['year'] = pd. to_datetime(abnormals['date']).dt.to_period('Y')\n",
        "abnormals"
      ],
      "execution_count": null,
      "outputs": []
    },
    {
      "cell_type": "markdown",
      "metadata": {
        "id": "y8dG2aNFFZNX"
      },
      "source": [
        "# Aggregate independent variables"
      ]
    },
    {
      "cell_type": "code",
      "metadata": {
        "id": "zDew6bMeGMAO"
      },
      "source": [
        "size = raem[['tic','datadate','year','at']]\n",
        "size['size'] = np.log(size['at'])\n",
        "size"
      ],
      "execution_count": null,
      "outputs": []
    },
    {
      "cell_type": "code",
      "metadata": {
        "id": "ryCIfjuaMWmZ"
      },
      "source": [
        "controls['year'] = pd.to_datetime(controls['date']).dt.to_period('Y')\n",
        "size['year'] = pd.to_datetime(size['datadate']).dt.to_period('Y')\n",
        "\n",
        "iv = pd.merge(left = controls,\n",
        "              right = size,\n",
        "              right_on = ['tic','year'],\n",
        "              left_on=['TICKER','year'],\n",
        "              how = 'right')\n",
        "iv = iv.drop(['date','TICKER'],axis = 1)\n",
        "iv = iv.dropna()\n",
        "iv"
      ],
      "execution_count": null,
      "outputs": []
    },
    {
      "cell_type": "code",
      "metadata": {
        "id": "8oEH9J5pMhxt"
      },
      "source": [
        "iv_new = pd.merge(left = iv,\n",
        "                  right = ac,\n",
        "                  left_on = ['tic','year'],\n",
        "                  right_on = ['OFTIC','year'])\n",
        "iv_new"
      ],
      "execution_count": null,
      "outputs": []
    },
    {
      "cell_type": "code",
      "metadata": {
        "id": "MSqvC6KoR0d1"
      },
      "source": [
        "iv_new = iv_new.fillna(0)"
      ],
      "execution_count": null,
      "outputs": []
    },
    {
      "cell_type": "code",
      "metadata": {
        "id": "E81m5okxR5zS"
      },
      "source": [
        "iv_new['tic'] = iv_new['tic'].astype(str)\n",
        "abnormals['tic'] = abnormals['tic'].astype(str)"
      ],
      "execution_count": null,
      "outputs": []
    },
    {
      "cell_type": "code",
      "metadata": {
        "id": "Rp0gaGvmR7B7"
      },
      "source": [
        "final = pd.merge(left = abnormals,\n",
        "                 right = iv_new,\n",
        "                 left_on=['tic','year'],\n",
        "                 right_on=['tic','year'])\n",
        "final"
      ],
      "execution_count": null,
      "outputs": []
    },
    {
      "cell_type": "code",
      "metadata": {
        "id": "YPcOi3R8xrYp"
      },
      "source": [
        "final_1 = pd.merge(left = final,\n",
        "                   right = gov,\n",
        "                   left_on = ['tic','year'],\n",
        "                   right_on = ['Ticker','year'])\n",
        "final_1 = final_1.drop(['datadate','date','Ticker','Date','at','Company'],axis=1)\n",
        "final_1['coverage'] = np.log(final_1['ANALYST']+1)"
      ],
      "execution_count": null,
      "outputs": []
    },
    {
      "cell_type": "code",
      "metadata": {
        "id": "NXYVMoV9U7DD"
      },
      "source": [
        "final_data = pd.get_dummies(final_1,columns=['year'])\n",
        "final_data['abnormal_ocf']=final_data['abnormal_ocf']*100\n",
        "final_data['abnormal_cogs']=final_data['abnormal_cogs']*100\n",
        "final_data['abnormal_disexp']=final_data['abnormal_disexp']*100\n",
        "final_data['abnormal_inv']=final_data['abnormal_inv']*100\n",
        "final_data['abnormal_prod']=final_data['abnormal_prod']*100\n",
        "final_data"
      ],
      "execution_count": null,
      "outputs": []
    },
    {
      "cell_type": "code",
      "metadata": {
        "id": "78JD5NrHVuXJ"
      },
      "source": [
        "X = final_data[['coverage','ptb','roa','size','cycle',\n",
        "                'year_2011','year_2012','year_2013',\n",
        "                'year_2014','year_2015','year_2016',\n",
        "                'year_2017']]\n",
        "X = sm.add_constant(X)\n",
        "y = abs(final_data['abnormal_ocf'])\n",
        "model_1 = sm.OLS(y,X).fit()\n",
        "#print(model_1.summary())"
      ],
      "execution_count": null,
      "outputs": []
    },
    {
      "cell_type": "code",
      "metadata": {
        "id": "zQgtgXnWWP1J"
      },
      "source": [
        "reg_ocf = pd.concat((model_1.params, model_1.tvalues,model_1.pvalues), axis=1)\n",
        "\n",
        "reg_ocf = reg_ocf.rename(columns={0: 'Coef.', \n",
        "                                  1: '|t|',\n",
        "                                  2:'p-value'})"
      ],
      "execution_count": null,
      "outputs": []
    },
    {
      "cell_type": "code",
      "metadata": {
        "id": "iS9FA7HoZM1R"
      },
      "source": [
        "X = final_data[['coverage','ptb','roa','size','cycle',\n",
        "                'year_2011','year_2012','year_2013',\n",
        "                'year_2014','year_2015','year_2016',\n",
        "                'year_2017']]\n",
        "X = sm.add_constant(X)\n",
        "y = abs(final_data['abnormal_disexp'])\n",
        "model_2 = sm.OLS(y,X).fit()\n",
        "#print(model_2.summary())"
      ],
      "execution_count": null,
      "outputs": []
    },
    {
      "cell_type": "code",
      "metadata": {
        "id": "W6_eaBucZM1T"
      },
      "source": [
        "reg_disexp = pd.concat((model_2.params, model_2.tvalues,model_2.pvalues), axis=1)\n",
        "\n",
        "reg_disexp = reg_disexp.rename(columns={0: 'Coef.', \n",
        "                                  1: 't',\n",
        "                                  2:'p>|t|'})"
      ],
      "execution_count": null,
      "outputs": []
    },
    {
      "cell_type": "code",
      "metadata": {
        "id": "SkO7Wf-rZj6E"
      },
      "source": [
        "X = final_data[['coverage','ptb','roa','size','cycle',\n",
        "                'year_2011','year_2012','year_2013',\n",
        "                'year_2014','year_2015','year_2016',\n",
        "                'year_2017']]\n",
        "X = sm.add_constant(X)\n",
        "y = abs(final_data['abnormal_prod'])\n",
        "model_3 = sm.OLS(y,X).fit()\n",
        "#print(model_3.summary())"
      ],
      "execution_count": null,
      "outputs": []
    },
    {
      "cell_type": "code",
      "metadata": {
        "id": "Y0vUvcw9Zj6G"
      },
      "source": [
        "reg_prod = pd.concat((model_3.params, model_3.tvalues,model_3.pvalues), axis=1)\n",
        "\n",
        "reg_prod = reg_prod.rename(columns={0: 'Coef.', \n",
        "                                  1: 't',\n",
        "                                  2:'p>|t|'})"
      ],
      "execution_count": null,
      "outputs": []
    },
    {
      "cell_type": "code",
      "metadata": {
        "id": "F8ZU5Z2cZtxs"
      },
      "source": [
        "X = final_data[['coverage','ptb','roa','size','cycle',\n",
        "                'year_2011','year_2012','year_2013',\n",
        "                'year_2014','year_2015','year_2016',\n",
        "                'year_2017']]\n",
        "X = sm.add_constant(X)\n",
        "y = abs(final_data['abnormal_inv'])\n",
        "model_4 = sm.OLS(y,X).fit()\n",
        "#print(model_4.summary())"
      ],
      "execution_count": null,
      "outputs": []
    },
    {
      "cell_type": "code",
      "metadata": {
        "id": "kWh1RIH7Ztxt"
      },
      "source": [
        "reg_inv = pd.concat((model_4.params, model_4.tvalues,model_4.pvalues), axis=1)\n",
        "\n",
        "reg_inv = reg_inv.rename(columns={0: 'Coef.', \n",
        "                                  1: 't',\n",
        "                                  2:'p>|t|'})\n"
      ],
      "execution_count": null,
      "outputs": []
    },
    {
      "cell_type": "code",
      "metadata": {
        "id": "j539Vyy2Z4nn"
      },
      "source": [
        "y = final_data['abnormal_cogs']\n",
        "model_5 = sm.OLS(y,X).fit()\n",
        "#print(model_5.summary())"
      ],
      "execution_count": null,
      "outputs": []
    },
    {
      "cell_type": "code",
      "metadata": {
        "id": "lYDcRZsXZ4np"
      },
      "source": [
        "reg_cogs = pd.concat((model_5.params, model_5.tvalues,model_5.pvalues), axis=1)\n",
        "\n",
        "reg_cogs = reg_cogs.rename(columns={0: 'Coef.', \n",
        "                                  1: 't',\n",
        "                                  2:'p>|t|'})"
      ],
      "execution_count": null,
      "outputs": []
    },
    {
      "cell_type": "code",
      "metadata": {
        "id": "w28bhm_d0VSy"
      },
      "source": [
        "y = abs(final_data['abnormal_ocf'])+abs(final_data['abnormal_cogs'])+abs(final_data['abnormal_prod'])+abs(final_data['abnormal_inv'])+abs(final_data['abnormal_disexp'])\n",
        "model_6 = sm.OLS(y,X).fit()\n",
        "#print(model_6.summary())"
      ],
      "execution_count": null,
      "outputs": []
    },
    {
      "cell_type": "code",
      "metadata": {
        "id": "tsBHsUjH0tMW"
      },
      "source": [
        "reg_rm = pd.concat((model_6.params, model_6.tvalues,model_6.pvalues), axis=1)\n",
        "\n",
        "reg_rm = reg_rm.rename(columns={0: 'Coef.', \n",
        "                                  1: 't',\n",
        "                                  2:'p>|t|'})"
      ],
      "execution_count": null,
      "outputs": []
    },
    {
      "cell_type": "code",
      "metadata": {
        "id": "XBg-80KW0zej"
      },
      "source": [
        "final_am = pd.merge(final_1,\n",
        "                         right = ams_all,\n",
        "                         on = ['tic','year'])\n",
        "\n",
        "final_am['abnormal_ocf']=final_am['abnormal_ocf']*100\n",
        "final_am['abnormal_cogs']=final_am['abnormal_cogs']*100\n",
        "final_am['abnormal_disexp']=final_am['abnormal_disexp']*100\n",
        "final_am['abnormal_inv']=final_am['abnormal_inv']*100\n",
        "final_am['abnormal_prod']=final_am['abnormal_prod']*100\n",
        "final_am['am']=final_am['am']*100\n",
        "final_am['gov']=np.log(final_am['governance_score']+1)"
      ],
      "execution_count": null,
      "outputs": []
    },
    {
      "cell_type": "code",
      "metadata": {
        "id": "qzJDBPLNDSIY"
      },
      "source": [
        "eda = pd.DataFrame(final_am.describe())"
      ],
      "execution_count": null,
      "outputs": []
    },
    {
      "cell_type": "code",
      "metadata": {
        "id": "mYje0P_g1m2Y"
      },
      "source": [
        "final_am = pd.get_dummies(final_am,columns=['year'])\n",
        "final_am"
      ],
      "execution_count": null,
      "outputs": []
    },
    {
      "cell_type": "code",
      "metadata": {
        "id": "XobfG54W1va3"
      },
      "source": [
        "y = abs(final_am['am'])\n",
        "model_7 = sm.OLS(y,X).fit()\n",
        "#print(model_7.summary())"
      ],
      "execution_count": null,
      "outputs": []
    },
    {
      "cell_type": "code",
      "metadata": {
        "id": "eoRxSDvn5RdI"
      },
      "source": [
        "reg_am = pd.concat((model_7.params, model_7.tvalues,model_7.pvalues), axis=1)\n",
        "\n",
        "reg_am = reg_am.rename(columns={0: 'Coef.', \n",
        "                                  1: 't',\n",
        "                                  2:'p>|t|'})"
      ],
      "execution_count": null,
      "outputs": []
    },
    {
      "cell_type": "code",
      "metadata": {
        "id": "cp1Y17387AUJ"
      },
      "source": [
        "X = final_am[['coverage','ptb','roa','size','cycle',\n",
        "                'year_2011','year_2012','year_2013',\n",
        "                'year_2014','year_2015','year_2016',\n",
        "                'year_2017']]\n",
        "\n",
        "X = sm.add_constant(X)\n",
        "rm = abs(final_am['abnormal_ocf'])+abs(final_am['abnormal_cogs'])+abs(final_am['abnormal_prod'])+abs(final_am['abnormal_inv'])+abs(final_am['abnormal_disexp'])\n",
        "\n",
        "am = abs(final_am['am'])\n",
        "\n",
        "y = rm/(rm+am)\n",
        "\n",
        "model_8 = sm.OLS(y,X).fit()\n",
        "#print(model_8.summary())"
      ],
      "execution_count": null,
      "outputs": []
    },
    {
      "cell_type": "code",
      "metadata": {
        "id": "ED7LgVg675ok"
      },
      "source": [
        "reg_rms = pd.concat((model_8.params, model_8.tvalues,model_8.pvalues), axis=1)\n",
        "\n",
        "reg_rms = reg_rms.rename(columns={0: 'Coef.', \n",
        "                                  1: 't',\n",
        "                                  2:'p>|t|'})"
      ],
      "execution_count": null,
      "outputs": []
    },
    {
      "cell_type": "code",
      "metadata": {
        "id": "4Ty3hnBlYrz0"
      },
      "source": [
        "# Create a Pandas Excel writer using XlsxWriter as the engine.\n",
        "\n",
        "writer = pd.ExcelWriter('analyst_coverage_reg_results.xlsx')\n",
        "\n",
        "# Write each dataframe to a different worksheet.\n",
        "eda.to_excel(writer,sheet_name = 'EDA')\n",
        "reg_ocf.to_excel(writer, sheet_name='ocf')\n",
        "reg_disexp.to_excel(writer, sheet_name='disexp')\n",
        "reg_inv.to_excel(writer, sheet_name='inv')\n",
        "reg_prod.to_excel(writer, sheet_name='prod')\n",
        "reg_cogs.to_excel(writer, sheet_name='cogs')\n",
        "reg_rm.to_excel(writer, sheet_name='rm')\n",
        "reg_am.to_excel(writer, sheet_name='am')\n",
        "reg_rms.to_excel(writer, sheet_name='rms')\n",
        "\n",
        "# Close the Pandas Excel writer and output the Excel file.\n",
        "writer.save()\n",
        "\n",
        "files.download('analyst_coverage_reg_results.xlsx')"
      ],
      "execution_count": null,
      "outputs": []
    },
    {
      "cell_type": "markdown",
      "metadata": {
        "id": "NS3xsyHk8Lal"
      },
      "source": [
        "# REGRESSION WITH GOVERNANCE"
      ]
    },
    {
      "cell_type": "code",
      "metadata": {
        "id": "Vm-iRXrP8Kvf"
      },
      "source": [
        "X = final_am[['coverage','gov','ptb',\n",
        "              'roa','size','cycle',\n",
        "              'year_2011','year_2012','year_2013',\n",
        "              'year_2014','year_2015','year_2016',\n",
        "              'year_2017']]\n",
        "\n",
        "X = sm.add_constant(X)\n",
        "\n",
        "rm = abs(final_am['abnormal_ocf'])+abs(final_am['abnormal_cogs'])+abs(final_am['abnormal_prod'])+abs(final_am['abnormal_inv'])+abs(final_am['abnormal_disexp'])\n",
        "\n",
        "am = abs(final_am['am'])\n",
        "\n",
        "rms = rm/(rm+am)\n",
        "\n",
        "model_rm= sm.OLS(rm,X).fit()\n",
        "model_am= sm.OLS(am,X).fit()\n",
        "model_rms= sm.OLS(rms,X).fit()\n",
        "\n",
        "X_gov = final_am[['gov','ptb',\n",
        "              'roa','size','cycle',\n",
        "              'year_2011','year_2012','year_2013',\n",
        "              'year_2014','year_2015','year_2016',\n",
        "              'year_2017']]\n",
        "\n",
        "X_gov = sm.add_constant(X_gov)\n",
        "\n",
        "\n",
        "g_rm= sm.OLS(rm,X_gov).fit()\n",
        "g_am= sm.OLS(am,X_gov).fit()\n",
        "g_rms= sm.OLS(rms,X_gov).fit()"
      ],
      "execution_count": null,
      "outputs": []
    },
    {
      "cell_type": "code",
      "metadata": {
        "id": "ijxAdxQaaCev"
      },
      "source": [
        "re_rm = pd.concat((model_rm.params, model_rm.tvalues,model_rm.pvalues), axis=1)\n",
        "re_am = pd.concat((model_am.params, model_am.tvalues,model_am.pvalues), axis=1)\n",
        "re_rms = pd.concat((model_rms.params, model_rms.tvalues,model_rms.pvalues), axis=1)\n",
        "\n",
        "re_ocf = re_ocf.rename(columns={0: 'Coef.', \n",
        "                                  1: 't',\n",
        "                                  2:'p>|t|'})\n",
        "\n",
        "re_cogs = re_cogs.rename(columns={0: 'Coef.', \n",
        "                                  1: 't',\n",
        "                                  2:'p>|t|'})\n",
        "\n",
        "re_prod = re_prod.rename(columns={0: 'Coef.', \n",
        "                                  1: 't',\n",
        "                                  2:'p>|t|'})\n",
        "\n",
        "re_dis = re_dis.rename(columns={0: 'Coef.', \n",
        "                                  1: 't',\n",
        "                                  2:'p>|t|'})\n",
        "\n",
        "re_inv = re_inv.rename(columns={0: 'Coef.', \n",
        "                                  1: 't',\n",
        "                                  2:'p>|t|'})\n",
        "\n",
        "re_rm = re_rm.rename(columns={0: 'Coef.', \n",
        "                                  1: 't',\n",
        "                                  2:'p>|t|'})\n",
        "\n",
        "re_am = re_am.rename(columns={0: 'Coef.', \n",
        "                                  1: 't',\n",
        "                                  2:'p>|t|'})\n",
        "\n",
        "\n",
        "\n",
        "re_rms = re_rms.rename(columns={0: 'Coef.', \n",
        "                                  1: 't',\n",
        "                                  2:'p>|t|'})\n"
      ],
      "execution_count": null,
      "outputs": []
    },
    {
      "cell_type": "code",
      "metadata": {
        "id": "fVCLZrKZ_EK2"
      },
      "source": [
        "g_rm = pd.concat((g_rm.params, g_rm.tvalues,g_rm.pvalues), axis=1)\n",
        "g_am = pd.concat((g_am.params, g_am.tvalues,g_am.pvalues), axis=1)\n",
        "g_rms = pd.concat((g_rms.params, g_rms.tvalues,g_rms.pvalues), axis=1)\n",
        "\n",
        "g_ocf = g_ocf.rename(columns={0: 'Coef.', \n",
        "                                  1: 't',\n",
        "                                  2:'p>|t|'})\n",
        "\n",
        "g_cogs = g_cogs.rename(columns={0: 'Coef.', \n",
        "                                  1: 't',\n",
        "                                  2:'p>|t|'})\n",
        "\n",
        "g_prod = g_prod.rename(columns={0: 'Coef.', \n",
        "                                  1: 't',\n",
        "                                  2:'p>|t|'})\n",
        "\n",
        "g_dis = g_dis.rename(columns={0: 'Coef.', \n",
        "                                  1: 't',\n",
        "                                  2:'p>|t|'})\n",
        "\n",
        "g_inv = g_inv.rename(columns={0: 'Coef.', \n",
        "                                  1: 't',\n",
        "                                  2:'p>|t|'})\n",
        "\n",
        "g_rm = g_rm.rename(columns={0: 'Coef.', \n",
        "                                  1: 't',\n",
        "                                  2:'p>|t|'})\n",
        "\n",
        "g_am = g_am.rename(columns={0: 'Coef.', \n",
        "                                  1: 't',\n",
        "                                  2:'p>|t|'})\n",
        "\n",
        "\n",
        "\n",
        "g_rms = g_rms.rename(columns={0: 'Coef.', \n",
        "                                  1: 't',\n",
        "                                  2:'p>|t|'})\n"
      ],
      "execution_count": null,
      "outputs": []
    },
    {
      "cell_type": "code",
      "metadata": {
        "id": "-mNs-cQC-gWR"
      },
      "source": [
        "# Create a Pandas Excel writer using XlsxWriter as the engine.\n",
        "\n",
        "writer = pd.ExcelWriter('reg_results_gov_ac.xlsx')\n",
        "\n",
        "# Write each dataframe to a different worksheet.\n",
        "re_rm.to_excel(writer, sheet_name='rm')\n",
        "re_am.to_excel(writer, sheet_name='am')\n",
        "re_rms.to_excel(writer, sheet_name='rms')\n",
        "\n",
        "# Close the Pandas Excel writer and output the Excel file.\n",
        "writer.save()\n",
        "\n",
        "files.download('reg_results_gov_ac.xlsx')"
      ],
      "execution_count": null,
      "outputs": []
    },
    {
      "cell_type": "code",
      "metadata": {
        "id": "med52EYW_y63"
      },
      "source": [
        "# Create a Pandas Excel writer using XlsxWriter as the engine.\n",
        "\n",
        "writer = pd.ExcelWriter('reg_results_gov.xlsx')\n",
        "\n",
        "# Write each dataframe to a different worksheet.\n",
        "g_rm.to_excel(writer, sheet_name='rm')\n",
        "g_am.to_excel(writer, sheet_name='am')\n",
        "g_rms.to_excel(writer, sheet_name='rms')\n",
        "\n",
        "# Close the Pandas Excel writer and output the Excel file.\n",
        "writer.save()\n",
        "\n",
        "files.download('reg_results_gov.xlsx')"
      ],
      "execution_count": null,
      "outputs": []
    },
    {
      "cell_type": "code",
      "metadata": {
        "id": "PwdSb7U1BfIq"
      },
      "source": [
        "final_am['gov_dum'] = np.where(final_am['gov']>=4.181868, 1, 0)\n",
        "final_am['gov_cov'] = final_am['gov']*final_am['coverage']\n",
        "final_am.describe()"
      ],
      "execution_count": null,
      "outputs": []
    },
    {
      "cell_type": "code",
      "metadata": {
        "id": "XGrjWHvaE4g-"
      },
      "source": [
        "X_dum = final_am[['coverage','gov_dum','gov_cov','ptb',\n",
        "              'roa','size','cycle',\n",
        "              'year_2011','year_2012','year_2013',\n",
        "              'year_2014','year_2015','year_2016',\n",
        "              'year_2017']]\n",
        "\n",
        "X_dum = sm.add_constant(X_dum)\n",
        "\n",
        "\n",
        "rm = abs(final_am['abnormal_ocf'])+abs(final_am['abnormal_cogs'])+abs(final_am['abnormal_prod'])+abs(final_am['abnormal_inv'])+abs(final_am['abnormal_disexp'])\n",
        "\n",
        "am = abs(final_am['am'])\n",
        "\n",
        "rms = rm/(rm+am)\n",
        "\n",
        "model_rm_d= sm.OLS(rm,X_dum).fit()\n",
        "model_am_d= sm.OLS(am,X_dum).fit()\n",
        "model_rms_d= sm.OLS(rms,X_dum).fit()\n"
      ],
      "execution_count": null,
      "outputs": []
    },
    {
      "cell_type": "code",
      "metadata": {
        "id": "hWYegBI7FYcE"
      },
      "source": [
        "m_rm = pd.concat((model_rm_d.params, model_rm_d.tvalues,model_rm_d.pvalues), axis=1)\n",
        "m_am = pd.concat((model_am_d.params, model_am_d.tvalues,model_am_d.pvalues), axis=1)\n",
        "m_rms = pd.concat((model_rms_d.params, model_rms_d.tvalues,model_rms_d.pvalues), axis=1)\n",
        "\n",
        "m_rm = m_rm.rename(columns={0: 'Coef.', \n",
        "                                  1: 't',\n",
        "                                  2:'p>|t|'})\n",
        "\n",
        "m_am = m_am.rename(columns={0: 'Coef.', \n",
        "                                  1: 't',\n",
        "                                  2:'p>|t|'})\n",
        "\n",
        "\n",
        "\n",
        "m_rms = m_rms.rename(columns={0: 'Coef.', \n",
        "                                  1: 't',\n",
        "                                  2:'p>|t|'})\n"
      ],
      "execution_count": null,
      "outputs": []
    },
    {
      "cell_type": "code",
      "metadata": {
        "id": "5rpoZJmOGfQ0"
      },
      "source": [
        "# Create a Pandas Excel writer using XlsxWriter as the engine.\n",
        "\n",
        "writer = pd.ExcelWriter('reg_results_gov_dum.xlsx')\n",
        "\n",
        "# Write each dataframe to a different worksheet.\n",
        "\n",
        "m_rm.to_excel(writer, sheet_name='rm')\n",
        "m_am.to_excel(writer, sheet_name='am')\n",
        "m_rms.to_excel(writer, sheet_name='rms')\n",
        "\n",
        "# Close the Pandas Excel writer and output the Excel file.\n",
        "writer.save()\n",
        "\n",
        "files.download('reg_results_gov_dum.xlsx')"
      ],
      "execution_count": null,
      "outputs": []
    },
    {
      "cell_type": "code",
      "metadata": {
        "id": "Kkb-p6LoGo68"
      },
      "source": [
        "final_am['rm'] = abs(final_am['abnormal_ocf'])+abs(final_am['abnormal_cogs'])+abs(final_am['abnormal_prod'])+abs(final_am['abnormal_inv'])+abs(final_am['abnormal_disexp'])\n",
        "\n",
        "final_am['am'] = abs(final_am['am'])\n",
        "\n",
        "final_am['rms'] = rm/(rm+am)\n",
        "\n",
        "final_am.describe()\n"
      ],
      "execution_count": null,
      "outputs": []
    },
    {
      "cell_type": "code",
      "metadata": {
        "id": "uQBUiBjdHfrn"
      },
      "source": [
        "from scipy.stats import pearsonr\n",
        "import numpy as np\n",
        "regressors = final_am[['am',\n",
        "                       'abnormal_ocf',\t\n",
        "                       'abnormal_cogs',\n",
        "                       'abnormal_disexp',\n",
        "                       'abnormal_inv',\n",
        "                       'abnormal_prod',\n",
        "                       'rm',\n",
        "                       'rms',                       \n",
        "                       'coverage',\n",
        "                       'gov',\n",
        "                       'roa',\n",
        "                       'cycle',\n",
        "                       'ptb',\n",
        "                       'size']]\n",
        "                       \n",
        "rho = regressors.corr()\n",
        "pval = regressors.corr(method=lambda x, y: pearsonr(x, y)[1]) - np.eye(*rho.shape)\n",
        "p = pval.applymap(lambda x: ''.join(['*' for t in [0.01,0.05,0.1] if x<=t]))\n",
        "corr = rho.round(2).astype(str) + p\n",
        "\n",
        "corr"
      ],
      "execution_count": null,
      "outputs": []
    },
    {
      "cell_type": "code",
      "metadata": {
        "id": "6npZfP03RXQW"
      },
      "source": [
        "corr.to_csv('corr.csv') \n",
        "files.download('corr.csv')"
      ],
      "execution_count": null,
      "outputs": []
    },
    {
      "cell_type": "code",
      "metadata": {
        "id": "6wMqfvb-RoXc"
      },
      "source": [
        "final_am.to_csv('final_data.csv')\n",
        "files.download('final_data.csv')"
      ],
      "execution_count": null,
      "outputs": []
    }
  ]
}